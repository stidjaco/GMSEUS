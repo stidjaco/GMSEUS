{
 "cells": [
  {
   "cell_type": "markdown",
   "metadata": {},
   "source": [
    "# Attempt at Template Matching\n",
    "* "
   ]
  },
  {
   "cell_type": "code",
   "execution_count": 4,
   "metadata": {},
   "outputs": [
    {
     "name": "stderr",
     "output_type": "stream",
     "text": [
      "f:\\Python_Envs\\BigPanel\\Lib\\site-packages\\pyproj\\__init__.py:91: UserWarning: Valid PROJ data directory not found. Either set the path using the environmental variable PROJ_DATA (PROJ 9.1+) | PROJ_LIB (PROJ<9.1) or with `pyproj.datadir.set_data_dir`.\n",
      "  warnings.warn(str(err))\n"
     ]
    }
   ],
   "source": [
    "# Import Libraries\n",
    "import numpy as np\n",
    "import pandas as pd\n",
    "import matplotlib.pyplot as plt\n",
    "import cv2 as cv\n",
    "import os\n",
    "import geopandas as gpd\n",
    "from shapely.geometry import Polygon"
   ]
  },
  {
   "cell_type": "markdown",
   "metadata": {},
   "source": [
    "## Prepare Imagery"
   ]
  },
  {
   "cell_type": "code",
   "execution_count": 2,
   "metadata": {},
   "outputs": [],
   "source": [
    "wd = r'S:\\Users\\stidjaco\\R_files\\BigPanel'\n",
    "image = r'F:/naipPVtest.tif'\n",
    "templateFolder = r'F:/PV_Templates_eCog'"
   ]
  },
  {
   "cell_type": "code",
   "execution_count": 3,
   "metadata": {},
   "outputs": [],
   "source": [
    "# Read image using OpenCV\n",
    "img = cv.imread(image)\n",
    "\n",
    "# Load the main image\n",
    "img = cv2.imread('path_to_your_image.tif')\n",
    "\n",
    "# Load all templates from the directory\n",
    "templates = []\n",
    "for file in os.listdir(template_path):\n",
    "    if file.endswith('.tif'):\n",
    "        template = cv2.imread(os.path.join(template_path, file))\n",
    "        templates.append(template)\n",
    "\n",
    "# Initialize a mask to store matched areas\n",
    "mask = np.zeros(img.shape[:2], dtype=np.uint8)\n",
    "\n",
    "# Perform template matching for each template\n",
    "for template in templates:\n",
    "    result = cv2.matchTemplate(img, template, cv2.TM_CCOEFF_NORMED)\n",
    "    loc = np.where(result >= 0.85)\n",
    "    for pt in zip(*loc[::-1]):\n",
    "        cv2.rectangle(mask, pt, (pt[0] + template.shape[1], pt[1] + template.shape[0]), 255, -1)\n",
    "\n",
    "# Find contours from the mask\n",
    "contours, _ = cv2.findContours(mask, cv2.RETR_EXTERNAL, cv2.CHAIN_APPROX_SIMPLE)\n",
    "\n",
    "# Convert contours to polygons\n",
    "polygons = [Polygon(cnt.reshape(-1, 2)) for cnt in contours if len(cnt) >= 3]\n",
    "\n",
    "# Create a GeoDataFrame from polygons\n",
    "gdf = gpd.GeoDataFrame(geometry=polygons, crs='EPSG:4326')\n",
    "\n",
    "# Save the vectorized polygons to a shapefile\n",
    "output_shapefile = 'vectorized_output.shp'\n",
    "gdf.to_file(output_shapefile)\n",
    "\n",
    "print(f\"Vectorized output saved to {output_shapefile}\")"
   ]
  }
 ],
 "metadata": {
  "kernelspec": {
   "display_name": "Python 3",
   "language": "python",
   "name": "python3"
  },
  "language_info": {
   "codemirror_mode": {
    "name": "ipython",
    "version": 3
   },
   "file_extension": ".py",
   "mimetype": "text/x-python",
   "name": "python",
   "nbconvert_exporter": "python",
   "pygments_lexer": "ipython3",
   "version": "3.12.5"
  }
 },
 "nbformat": 4,
 "nbformat_minor": 2
}
