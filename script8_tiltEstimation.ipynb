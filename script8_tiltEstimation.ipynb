{
 "cells": [
  {
   "cell_type": "markdown",
   "metadata": {},
   "source": [
    "# Calculate Optimal Tilt for Fixed-Axis Arrays\n",
    "NOTE: Requires BigPanelTilt.yml environment \n",
    "\n",
    "This script uses _pvlib_ and lat, long, mount tech, and avgAzimuth to estimate the optimal tilt based on the maximizing Plane of Array (POA) irradiance at a given site and topography.\n"
   ]
  },
  {
   "cell_type": "markdown",
   "metadata": {},
   "source": [
    "# Import Libraries and Variables"
   ]
  },
  {
   "cell_type": "code",
   "execution_count": 3,
   "metadata": {},
   "outputs": [],
   "source": [
    "# Import libraries\n",
    "import geopandas as gpd\n",
    "import os\n",
    "import numpy as np\n",
    "import pandas as pd\n",
    "import pvlib\n",
    "import warnings"
   ]
  },
  {
   "cell_type": "code",
   "execution_count": 4,
   "metadata": {},
   "outputs": [],
   "source": [
    "# Set paths\n",
    "wd = r'S:\\Users\\stidjaco\\R_files\\BigPanel'\n",
    "derived_path = os.path.join(wd, r'Data/Derived')\n",
    "derivedTemp_path = os.path.join(derived_path, r'intermediateProducts')\n",
    "\n",
    "# Set final gmseusArrays path from script7 outputs\n",
    "gmseusArraysInputPath = os.path.join(derivedTemp_path, r'GMSEUS_Arrays_wGEOID.shp')\n",
    "\n",
    "# Set output path\n",
    "gmseusArraysTiltPath = os.path.join(derivedTemp_path, r'GMSEUS_Arrays_estTilt.shp')"
   ]
  },
  {
   "cell_type": "markdown",
   "metadata": {},
   "source": [
    "# Estimate Tilt\n",
    "GM-SEUS Arrays (gmseusArrays) contains the following attributes for estimating tilt: 'avgAimuth' (degrees from north), 'GCR1' (rowArea / totArea), 'mount' (e.g., 'fixed_axis'), and 'latitude' and 'longitude'.\\\n",
    "We have also aready checked existing array infomation for tilt, so we will call estimated tilt a new column:'tiltEst'.\\\n",
    "Mounts with tilt information include: 'fixed_axis','mixed_fs', 'mixed_df', 'mixed_dfs', or 'mixed'.\\\n",
    "For each  row in the gmseusArrays DataFrame, find the angle of tilt that maximizes annual global POA irradiance for a local TMY and azimuth, using latitude and longitude of the location to get the TMY data and avgAzimuth as azimuth.\\"
   ]
  },
  {
   "cell_type": "code",
   "execution_count": 11,
   "metadata": {},
   "outputs": [
    {
     "name": "stdout",
     "output_type": "stream",
     "text": [
      "Progress: 0 %\n",
      "Progress: 4 %\n",
      "Progress: 9 %\n",
      "Progress: 14 %\n",
      "Progress: 19 %\n",
      "Progress: 24 %\n",
      "Progress: 29 %\n",
      "Progress: 34 %\n",
      "Progress: 39 %\n",
      "Progress: 44 %\n",
      "Progress: 49 %\n",
      "Progress: 54 %\n",
      "Progress: 59 %\n",
      "Progress: 64 %\n",
      "Progress: 69 %\n",
      "Progress: 74 %\n",
      "Progress: 79 %\n",
      "Progress: 84 %\n",
      "Progress: 89 %\n",
      "Progress: 94 %\n",
      "Progress: 99 %\n",
      "Number of arrays with both tilt and tiltEst: 1986\n",
      "Number of arrays with tilt: 6689\n"
     ]
    }
   ],
   "source": [
    "# This cell requires 200+  minutes (~3.5 hours) to run. \n",
    "\n",
    "# Call gmseusArrays\n",
    "gmseusArrays = gpd.read_file(gmseusArraysInputPath)\n",
    "\n",
    "# Initialize the tiltEst column\n",
    "gmseusArrays['tiltEst'] = int(-9999) # NOTE: Change to float if we decide to look beyond 1 degree increments\n",
    "\n",
    "# Get gmseusArrays with mounts containing: 'fixed_axis','mixed_fs', 'mixed_df', 'mixed_dfs', or 'mixed'. Reset index.\n",
    "gmseusArrays_tiltEst = gmseusArrays[gmseusArrays['mount'].str.contains('fixed_axis|mixed_fs|mixed_df|mixed_dfs|mixed', case=False)].reset_index(drop=True)\n",
    "\n",
    "# ~~~~~~~~~~~~~~~~~~~~~~~~~~~~~~~~~~~~~~~~~~~~~~~~~~~~~~~~~~~~~~~~~~~ Estimate Optimum Tilt\n",
    "\n",
    "# Suppress specific warnings globally (e.g., DeprecationWarning, FutureWarning)\n",
    "warnings.filterwarnings(\"ignore\", category=DeprecationWarning)\n",
    "warnings.filterwarnings(\"ignore\", category=FutureWarning)\n",
    "\n",
    "# Loop through the rows of the gmseusArrays DataFrame to perform the tilt estimation for each array\n",
    "for index, row in gmseusArrays_tiltEst.iterrows():\n",
    "\n",
    "    # Define the latitude and longitude of the  array location\n",
    "    latitude = row['latitude']\n",
    "    longitude = row['longitude']\n",
    "\n",
    "    # Use the pvgis tool to get location specific TMY data\n",
    "    # Global TMY data from pvgis\n",
    "    tmy_data = pvlib.iotools.get_pvgis_tmy(latitude, longitude, outputformat='basic')\n",
    "    \n",
    "    # Get the weather data from TMY output (outputs: data, months_selected, inputs, metadata)\n",
    "    tmy_data = tmy_data[0]\n",
    "    \n",
    "    # Ensure the index is a DatetimeIndex\n",
    "    tmy_data.index = pd.to_datetime(tmy_data.index)\n",
    "\n",
    "    # Define the location and use it to get solar position data that corresponds to the TMY data\n",
    "    location = pvlib.location.Location(latitude, longitude)\n",
    "    solar_position = location.get_solarposition(tmy_data.index)\n",
    "\n",
    "    # Create a data frame for the results of panel tilet and total annual global POA irradiance\n",
    "    results = pd.DataFrame(columns=['array_tilt', 'total_global_poa'])\n",
    "\n",
    "    # The general rule of thumb is that the tilt of the array should be equal to the latitude of the location, with a 10 degree adjustment for the season. \n",
    "    # Latittude in the US ranges from 24 to 49 degrees, so to be concervative, we will loop through 10 to 70 degrees.\n",
    "    # Loop through the possible array tilts from 0 to 90 degrees and calculate the total annual global POA irradiance\n",
    "    for array_tilt in range(10, 70, 1): # by 1 degree means the output is an integer\n",
    "        poa_irradiance = pvlib.irradiance.get_total_irradiance(\n",
    "        surface_tilt=array_tilt,\n",
    "        surface_azimuth=row['avgAzimuth'],\n",
    "        dni=tmy_data['dni'],\n",
    "        ghi=tmy_data['ghi'],\n",
    "        dhi=tmy_data['dhi'],\n",
    "        solar_zenith=solar_position['zenith'],\n",
    "        solar_azimuth=solar_position['azimuth'],)\n",
    "\n",
    "        # Sum the Global POA Irradiance to get the total annual global POA irradiance\n",
    "        total_global_poa = poa_irradiance['poa_global'].sum()\n",
    "        \n",
    "        # Add the results to the results DataFrame\n",
    "        new_row = pd.DataFrame({'array_tilt': [array_tilt], 'total_global_poa': [total_global_poa]})\n",
    "        results = pd.concat([results, new_row], ignore_index=True)\n",
    "        \n",
    "    # find the maximum total annual energy and the corresponding array tilt\n",
    "    max_poa = results['total_global_poa'].max()\n",
    "    est_tilt = results.loc[results['total_global_poa'] == max_poa, 'array_tilt'].values[0]\n",
    "\n",
    "    # Assign the best tilt to the gmseusArrays DataFrame under the column tiltEst\n",
    "    gmseusArrays_tiltEst.loc[index, 'tiltEst'] = int(est_tilt) # NOTE: Change to float if we decide to look beyond 1 degree increments\n",
    "\n",
    "    # Print percent progress every 5% (round to nearest 5%)\n",
    "    if (index + 1) % int(gmseusArrays_tiltEst.shape[0]/20) == 0:\n",
    "        print('Progress:', round( (index+1) /gmseusArrays_tiltEst.shape[0]*100), '%')\n",
    "\n",
    "# ~~~~~~~~~~~~~~~~~~~~~~~~~~~~~~~~~~~~~~~~~~~~~~~~~~~~~~~~~~~~~~~~~~~ Prepare tilt and tiltEst for validation and export\n",
    "\n",
    "# Drop gmseusArrays where arrayID is in gmseusArrays_tiltEst, reset index, and concatenate with gmseusArrays_tiltEst\n",
    "gmseusArrays = gmseusArrays[~gmseusArrays['arrayID'].isin(gmseusArrays_tiltEst['arrayID'])]\n",
    "gmseusArrays = gmseusArrays.reset_index(drop=True)\n",
    "gmseusArrays = pd.concat([gmseusArrays, gmseusArrays_tiltEst], ignore_index=True)\n",
    "\n",
    "# If mount string contains 'fixed','mixed_fs', 'mixed_df', 'mixed_dfs', or 'mixed', maintain tilt, otherwise set tilt to -9999. These come from checked arrays (errors in permitting data?) -- even for checked dat\n",
    "gmseusArrays['tilt'] = gmseusArrays.apply(lambda row: row['tilt'] if any(x in str(row['mount']).lower() for x in ['fixed_axis', 'mixed_fs', 'mixed_df', 'mixed_dfs', 'mixed']) else -9999, axis=1)\n",
    "\n",
    "# Ensure fill NaN in tilt and tiltEst with -9999\n",
    "gmseusArrays['tilt'] = gmseusArrays['tilt'].fillna(-9999)\n",
    "gmseusArrays['tiltEst'] = gmseusArrays['tiltEst'].fillna(-9999)\n",
    "\n",
    "# ~~~~~~~~~~~~~~~~~~~~~~ Prepare validation export\n",
    "\n",
    "# Select arrays with both tilt and tiltEst not equal to -9999\n",
    "gmseusArrays_tiltValidate = gmseusArrays[(gmseusArrays['tilt'] != -9999) & (gmseusArrays['tiltEst'] != -9999)]\n",
    "\n",
    "# Print number of arrays with both tilt and tiltEst not equal to -9999\n",
    "print('Number of arrays with both tilt and tiltEst:', gmseusArrays_tiltValidate.shape[0])\n",
    "\n",
    "# Export for validation in script8\n",
    "gmseusArrays_tiltValidate.to_file(os.path.join(derivedTemp_path, r'GMSEUS_Arrays_wTilt_valid.shp'))\n",
    "\n",
    "# ~~~~~~~~~~~~~~~~~~~~~~~~~~~~~~~~~~~~~~~~~~~~~~~~~~~~~~~~~~~~~~~~~~~ Fill gaps and export \n",
    "\n",
    "# Where tilt is NaN (here, -9999), fill with tiltEst\n",
    "gmseusArrays['tilt'] = gmseusArrays['tilt'].where(gmseusArrays['tilt'] != -9999, gmseusArrays['tiltEst'])\n",
    "\n",
    "# Print number of arrays with tilt\n",
    "print('Number of arrays with tilt:', gmseusArrays[gmseusArrays['tilt'] != -9999].shape[0])\n",
    "\n",
    "# Export the final capacity dataset\n",
    "gmseusArrays.to_file(gmseusArraysTiltPath)"
   ]
  },
  {
   "cell_type": "code",
   "execution_count": 12,
   "metadata": {},
   "outputs": [
    {
     "name": "stdout",
     "output_type": "stream",
     "text": [
      "Number of arrays with NaN tilt: 0\n",
      "Number of arrays with -9999 tilt: 8328\n",
      "Number of arrays with tilt: 6689\n"
     ]
    }
   ],
   "source": [
    "# Perform Checks: Seperately, print the number of arrays where tilt is NaN, -9999, and not -9999 or NaN\n",
    "print('Number of arrays with NaN tilt:', gmseusArrays[gmseusArrays['tilt'].isna()].shape[0])\n",
    "print('Number of arrays with -9999 tilt:', gmseusArrays[gmseusArrays['tilt'] == -9999].shape[0])\n",
    "print('Number of arrays with tilt:', gmseusArrays[gmseusArrays['tilt'] != -9999].shape[0])"
   ]
  }
 ],
 "metadata": {
  "kernelspec": {
   "display_name": "BigPanelTilt",
   "language": "python",
   "name": "python3"
  },
  "language_info": {
   "codemirror_mode": {
    "name": "ipython",
    "version": 3
   },
   "file_extension": ".py",
   "mimetype": "text/x-python",
   "name": "python",
   "nbconvert_exporter": "python",
   "pygments_lexer": "ipython3",
   "version": "3.12.8"
  }
 },
 "nbformat": 4,
 "nbformat_minor": 2
}
