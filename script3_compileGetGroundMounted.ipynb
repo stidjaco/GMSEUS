{
 "cells": [
  {
   "cell_type": "markdown",
   "metadata": {},
   "source": [
    "# Compile existing and newly digitized solar array datasets and remove rooftop arrays\n",
    "This is a multi-step script. \n",
    "1. First, we compile existing and newly digitized array boundaries\n",
    "2. Then we use Google Earth Engine (GEE) to remove arrays intersecting with building rooftops resulting in only ground mounted solar arrays. \n",
    "\n",
    "**Compile datasets**\n",
    "* This involves pulling in the ouputs from `script1` and `script2`\n",
    "* Before spatially joining, we'll exlode the datasets, remove sub-shapes by intersection and spatial-quality, then dissolve by nativeID and Source to return best available dataset.\n",
    "\n",
    "**Use Google Earth Engine (GEE) to Remove Rooftop Arrays from Existing Solar Array Datasets**\n",
    "* Inputs: *existingSolarArrayShapes.shp* local shape file and asset upload to GEE.\n",
    "* Uses GEE to pull in [USA Structures](https://gee-community-catalog.org/projects/usa_structures/?h=ornl) dataset, calcualte the intersection with our newly-compiled solar array dataset, and remove arrays that are likely rooftop mounted. \n",
    "* Output: Ground mounted solar array dataset."
   ]
  },
  {
   "cell_type": "markdown",
   "metadata": {},
   "source": [
    "## Import Libraries"
   ]
  },
  {
   "cell_type": "code",
   "execution_count": 2,
   "metadata": {},
   "outputs": [
    {
     "data": {
      "text/html": [
       "\n",
       "            <style>\n",
       "                .geemap-dark {\n",
       "                    --jp-widgets-color: white;\n",
       "                    --jp-widgets-label-color: white;\n",
       "                    --jp-ui-font-color1: white;\n",
       "                    --jp-layout-color2: #454545;\n",
       "                    background-color: #383838;\n",
       "                }\n",
       "\n",
       "                .geemap-dark .jupyter-button {\n",
       "                    --jp-layout-color3: #383838;\n",
       "                }\n",
       "\n",
       "                .geemap-colab {\n",
       "                    background-color: var(--colab-primary-surface-color, white);\n",
       "                }\n",
       "\n",
       "                .geemap-colab .jupyter-button {\n",
       "                    --jp-layout-color3: var(--colab-primary-surface-color, white);\n",
       "                }\n",
       "            </style>\n",
       "            "
      ],
      "text/plain": [
       "<IPython.core.display.HTML object>"
      ]
     },
     "metadata": {},
     "output_type": "display_data"
    }
   ],
   "source": [
    "# Import libraries\n",
    "import numpy as np\n",
    "import pandas as pd\n",
    "import geopandas as gpd\n",
    "import os \n",
    "import ee\n",
    "import geemap\n",
    "\n",
    "# Load config file\n",
    "def load_config(filename):\n",
    "    config = {}\n",
    "    with open(filename, 'r') as f:\n",
    "        for line in f:\n",
    "            # Strip whitespace and split by '='\n",
    "            key, value = line.strip().split('=')\n",
    "            # Try to convert to numeric values if possible\n",
    "            try:\n",
    "                value = float(value) if '.' in value else int(value)\n",
    "            except ValueError:\n",
    "                pass  # Leave as string if not a number\n",
    "            config[key] = value\n",
    "    return config"
   ]
  },
  {
   "cell_type": "markdown",
   "metadata": {},
   "source": [
    "## Initialize GEE"
   ]
  },
  {
   "cell_type": "code",
   "execution_count": 3,
   "metadata": {},
   "outputs": [
    {
     "data": {
      "text/html": [
       "\n",
       "            <style>\n",
       "                .geemap-dark {\n",
       "                    --jp-widgets-color: white;\n",
       "                    --jp-widgets-label-color: white;\n",
       "                    --jp-ui-font-color1: white;\n",
       "                    --jp-layout-color2: #454545;\n",
       "                    background-color: #383838;\n",
       "                }\n",
       "\n",
       "                .geemap-dark .jupyter-button {\n",
       "                    --jp-layout-color3: #383838;\n",
       "                }\n",
       "\n",
       "                .geemap-colab {\n",
       "                    background-color: var(--colab-primary-surface-color, white);\n",
       "                }\n",
       "\n",
       "                .geemap-colab .jupyter-button {\n",
       "                    --jp-layout-color3: var(--colab-primary-surface-color, white);\n",
       "                }\n",
       "            </style>\n",
       "            "
      ],
      "text/plain": [
       "<IPython.core.display.HTML object>"
      ]
     },
     "metadata": {},
     "output_type": "display_data"
    },
    {
     "data": {
      "text/html": [
       "<p>To authorize access needed by Earth Engine, open the following\n",
       "        URL in a web browser and follow the instructions:</p>\n",
       "        <p><a href=https://code.earthengine.google.com/client-auth?scopes=https%3A//www.googleapis.com/auth/earthengine%20https%3A//www.googleapis.com/auth/cloud-platform%20https%3A//www.googleapis.com/auth/devstorage.full_control&request_id=rh07zVED6PD8F5LPX9ouWDxCw2X4l2LtFhlWNyUu0qc&tc=cyFIKBWlg8aWJOSFVlsZQqSKGn_KPumnts7-BT2fOyM&cc=klmLsuifTbMnqBt9EYwxPLO0MEZdr4cAZBbSEMcrvBo>https://code.earthengine.google.com/client-auth?scopes=https%3A//www.googleapis.com/auth/earthengine%20https%3A//www.googleapis.com/auth/cloud-platform%20https%3A//www.googleapis.com/auth/devstorage.full_control&request_id=rh07zVED6PD8F5LPX9ouWDxCw2X4l2LtFhlWNyUu0qc&tc=cyFIKBWlg8aWJOSFVlsZQqSKGn_KPumnts7-BT2fOyM&cc=klmLsuifTbMnqBt9EYwxPLO0MEZdr4cAZBbSEMcrvBo</a></p>\n",
       "        <p>The authorization workflow will generate a code, which you should paste in the box below.</p>\n",
       "        "
      ],
      "text/plain": [
       "<IPython.core.display.HTML object>"
      ]
     },
     "metadata": {},
     "output_type": "display_data"
    },
    {
     "name": "stdout",
     "output_type": "stream",
     "text": [
      "\n",
      "Successfully saved authorization token.\n"
     ]
    }
   ],
   "source": [
    "# Trigger the GEE authentication\n",
    "ee.Authenticate()\n",
    "\n",
    "# Initialize the cloud project\n",
    "ee.Initialize(project='ee-stidjaco')"
   ]
  },
  {
   "cell_type": "markdown",
   "metadata": {},
   "source": [
    "## Set paths and variables"
   ]
  },
  {
   "cell_type": "code",
   "execution_count": 4,
   "metadata": {},
   "outputs": [
    {
     "data": {
      "text/html": [
       "\n",
       "            <style>\n",
       "                .geemap-dark {\n",
       "                    --jp-widgets-color: white;\n",
       "                    --jp-widgets-label-color: white;\n",
       "                    --jp-ui-font-color1: white;\n",
       "                    --jp-layout-color2: #454545;\n",
       "                    background-color: #383838;\n",
       "                }\n",
       "\n",
       "                .geemap-dark .jupyter-button {\n",
       "                    --jp-layout-color3: #383838;\n",
       "                }\n",
       "\n",
       "                .geemap-colab {\n",
       "                    background-color: var(--colab-primary-surface-color, white);\n",
       "                }\n",
       "\n",
       "                .geemap-colab .jupyter-button {\n",
       "                    --jp-layout-color3: var(--colab-primary-surface-color, white);\n",
       "                }\n",
       "            </style>\n",
       "            "
      ],
      "text/plain": [
       "<IPython.core.display.HTML object>"
      ]
     },
     "metadata": {},
     "output_type": "display_data"
    }
   ],
   "source": [
    "# Set folder paths\n",
    "wd = r'S:\\Users\\stidjaco\\R_files\\BigPanel'\n",
    "downloaded_path = os.path.join(wd, r'Data\\Downloaded')\n",
    "derived_path = os.path.join(wd, r'Data\\Derived')\n",
    "derivedTemp_path = os.path.join(derived_path, r'intermediateProducts')\n",
    "\n",
    "# Set initial solar array shapefile locations to compile\n",
    "existingArraysPath = os.path.join(derivedTemp_path, r'existingDatasetArrayShapes.shp')\n",
    "georectifiedArraysPath = os.path.join(derivedTemp_path, r'georectifiedSolarArrays.geojson')\n",
    "\n",
    "# Set compiled solar array and panel shapefile locations (asset and local)\n",
    "arraysLocalPath = os.path.join(derivedTemp_path, r'compiledArrayDataset.shp') # We create this file in this script\n",
    "panelsLocalPath = os.path.join(derivedTemp_path, r'existingDatasetPanelShapes.shp') # This exists, and is created in script1\n",
    "arraysAssetPath = r'projects/ee-stidjaco/assets/BigPanel/compiledArrayDataset'\n",
    "\n",
    "# GM-SEUS initial output paths\n",
    "gmseusArraysInitPath = os.path.join(derivedTemp_path, r'initialGMSEUS_Arrays.shp')\n",
    "gmseusPanelsInitPath = os.path.join(derivedTemp_path, r'initialGMSEUS_Panels.shp')\n",
    "gmseusGetPanelsPath = os.path.join(derivedTemp_path, r'initialGMSEUS_getPanels.shp')\n",
    "\n",
    "# Get building database path\n",
    "buildingAssetPath = r\"projects/sat-io/open-datasets/VIDA_COMBINED/USA\"\n",
    "\n",
    "# Load the config from the text file\n",
    "config = load_config('config.txt')\n",
    "\n",
    "# Set threshold for building area contained within array inferring rooftop\n",
    "build_threshold = config['build_threshold'] # 50% of building area contained within array\n",
    "\n",
    "# Other variables\n",
    "gee_crs = config['gee_crs'] # native projection of Google Earth Engine exports\n",
    "minPanelRowArea = config['minPanelRowArea'] # minimum area of panel to be considered\n",
    "\n",
    "# Get US Boundary to subset global/non-CONUS datasets\n",
    "CONUS_path = os.path.join(wd, r'Data\\Downloaded\\CONUS_NoGreatLakes\\CONUS_No_Great_Lakes.shp')\n",
    "existingArrays = gpd.read_file(existingArraysPath) # Existing arrays shapefile\n",
    "US_boundary = gpd.read_file(CONUS_path) # CONUS boundary shapefile\n",
    "US_boundary = US_boundary.set_crs(epsg=4269) # Native projection of US boundary - NAD83\n",
    "US_boundary = US_boundary.to_crs(existingArrays.crs) # Transform to projection of existingArrays\n",
    "US_boundary['geometry'] = US_boundary.buffer(10) # Buffer US boundary by 10 meters to ensure that array bounds are not clipped"
   ]
  },
  {
   "cell_type": "markdown",
   "metadata": {},
   "source": [
    "## Helper Functions"
   ]
  },
  {
   "cell_type": "code",
   "execution_count": 5,
   "metadata": {},
   "outputs": [
    {
     "data": {
      "text/html": [
       "\n",
       "            <style>\n",
       "                .geemap-dark {\n",
       "                    --jp-widgets-color: white;\n",
       "                    --jp-widgets-label-color: white;\n",
       "                    --jp-ui-font-color1: white;\n",
       "                    --jp-layout-color2: #454545;\n",
       "                    background-color: #383838;\n",
       "                }\n",
       "\n",
       "                .geemap-dark .jupyter-button {\n",
       "                    --jp-layout-color3: #383838;\n",
       "                }\n",
       "\n",
       "                .geemap-colab {\n",
       "                    background-color: var(--colab-primary-surface-color, white);\n",
       "                }\n",
       "\n",
       "                .geemap-colab .jupyter-button {\n",
       "                    --jp-layout-color3: var(--colab-primary-surface-color, white);\n",
       "                }\n",
       "            </style>\n",
       "            "
      ],
      "text/plain": [
       "<IPython.core.display.HTML object>"
      ]
     },
     "metadata": {},
     "output_type": "display_data"
    }
   ],
   "source": [
    "# Function to check for and remove erroneous geometries in arrays\n",
    "def checkArrayGeometries(arrays): \n",
    "    # For a collection of reasons, array boundaries may contain erroneous geometries that result in a near-zero area, linestrings, or points. \n",
    "    # To check for and remove these, we'll explode arrays, calculate a temporary area, remove subarrays that are less than a minimum area, then dissolve by tempID.\n",
    "    arrays['tempDissolveID'] = (1 + np.arange(len(arrays)))  # Create a temporary ID for dissolving\n",
    "    arrays = arrays.explode(index_parts=False)\n",
    "    arrays['tempArea'] = arrays['geometry'].area\n",
    "    arrays = arrays[arrays['tempArea'] >= minPanelRowArea]\n",
    "    arrays = arrays.dissolve(by=['tempDissolveID'], as_index=False)\n",
    "    arrays = arrays.drop(columns=['tempArea', 'tempDissolveID'])\n",
    "    arrays = arrays.reset_index(drop=True)\n",
    "    return arrays"
   ]
  },
  {
   "cell_type": "markdown",
   "metadata": {},
   "source": [
    "## Compile existing and newly georectified array datasets and send to GEE"
   ]
  },
  {
   "cell_type": "code",
   "execution_count": 6,
   "metadata": {},
   "outputs": [
    {
     "data": {
      "text/html": [
       "\n",
       "            <style>\n",
       "                .geemap-dark {\n",
       "                    --jp-widgets-color: white;\n",
       "                    --jp-widgets-label-color: white;\n",
       "                    --jp-ui-font-color1: white;\n",
       "                    --jp-layout-color2: #454545;\n",
       "                    background-color: #383838;\n",
       "                }\n",
       "\n",
       "                .geemap-dark .jupyter-button {\n",
       "                    --jp-layout-color3: #383838;\n",
       "                }\n",
       "\n",
       "                .geemap-colab {\n",
       "                    background-color: var(--colab-primary-surface-color, white);\n",
       "                }\n",
       "\n",
       "                .geemap-colab .jupyter-button {\n",
       "                    --jp-layout-color3: var(--colab-primary-surface-color, white);\n",
       "                }\n",
       "            </style>\n",
       "            "
      ],
      "text/plain": [
       "<IPython.core.display.HTML object>"
      ]
     },
     "metadata": {},
     "output_type": "display_data"
    },
    {
     "name": "stdout",
     "output_type": "stream",
     "text": [
      "Number of arrays prior to removing rooftop arrays: 16691\n"
     ]
    }
   ],
   "source": [
    "# Call existing arrays and georectified arrays\n",
    "existingArrays = gpd.read_file(existingArraysPath)\n",
    "georectifiedArrays = gpd.read_file(georectifiedArraysPath)\n",
    "\n",
    "# Set georectifiedArrays projection to gee_crs\n",
    "georectifiedArrays = georectifiedArrays.set_crs(epsg=gee_crs)\n",
    "\n",
    "# Transform georectifiedArrays to existingArrays projection\n",
    "georectifiedArrays = georectifiedArrays.to_crs(existingArrays.crs)\n",
    "\n",
    "# Subset georectifiedArrays to US boundary\n",
    "georectifiedArrays = georectifiedArrays[georectifiedArrays.intersects(US_boundary.union_all())]\n",
    "\n",
    "# Set Source for georectifiedArrays to 'GMSEUSdigitized'\n",
    "georectifiedArrays['Source'] = 'GMSEUSgeorect'\n",
    "\n",
    "# Similar to in script1, our georectified dataset may overlap with an existing dataset partially, but not fully. Because we want all the information, we need to make an adjustment here. \n",
    "# To navigate this, we'll exlode the datasets, remove sub-shapes by intersection and spatial-quality, then dissolve by nativeID to return best available dataset.\n",
    "\n",
    "# First, exlode existing arrays\n",
    "existingArrays = existingArrays.explode(index_parts=False)\n",
    "\n",
    "# Remove existingArrays that intersect with georectifiedArrays. We do this because our digitized arrays contain more spatial and value added information. \n",
    "existingArrays = existingArrays[~existingArrays.intersects(georectifiedArrays.union_all())]\n",
    "\n",
    "# Now, dissolve by nativeID and Source to return existing arrays\n",
    "existingArrays = existingArrays.dissolve(by=['nativeID', 'Source'], as_index=False)\n",
    "existingArrays = existingArrays.reset_index(drop=True)\n",
    "\n",
    "# Merge existingArrays and georectifiedArrays\n",
    "compiledArrays = gpd.GeoDataFrame(pd.concat([existingArrays, georectifiedArrays], ignore_index=True), crs=existingArrays.crs)\n",
    "\n",
    "# Check for and remove erroneous geometries in compiledArrays\n",
    "compiledArrays = checkArrayGeometries(compiledArrays)\n",
    "\n",
    "# Set a temporary ID for indexing\n",
    "compiledArrays['tempID'] = compiledArrays.index\n",
    "\n",
    "# Print initial number of arrays prior to removing rooftop arrays\n",
    "print('Number of arrays prior to removing rooftop arrays: ' + str(len(compiledArrays)))\n",
    "\n",
    "# Save compiledArrays to local\n",
    "compiledArrays.to_file(arraysLocalPath)"
   ]
  },
  {
   "cell_type": "markdown",
   "metadata": {},
   "source": [
    "## STOP: Upload _arraysLocalPath_ to GEE Asset following the nomenclature of the arraysAssetPath prior to progressing"
   ]
  },
  {
   "cell_type": "markdown",
   "metadata": {},
   "source": [
    "## Create single featureCollection building asset"
   ]
  },
  {
   "cell_type": "code",
   "execution_count": 7,
   "metadata": {},
   "outputs": [
    {
     "data": {
      "text/html": [
       "\n",
       "            <style>\n",
       "                .geemap-dark {\n",
       "                    --jp-widgets-color: white;\n",
       "                    --jp-widgets-label-color: white;\n",
       "                    --jp-ui-font-color1: white;\n",
       "                    --jp-layout-color2: #454545;\n",
       "                    background-color: #383838;\n",
       "                }\n",
       "\n",
       "                .geemap-dark .jupyter-button {\n",
       "                    --jp-layout-color3: #383838;\n",
       "                }\n",
       "\n",
       "                .geemap-colab {\n",
       "                    background-color: var(--colab-primary-surface-color, white);\n",
       "                }\n",
       "\n",
       "                .geemap-colab .jupyter-button {\n",
       "                    --jp-layout-color3: var(--colab-primary-surface-color, white);\n",
       "                }\n",
       "            </style>\n",
       "            "
      ],
      "text/plain": [
       "<IPython.core.display.HTML object>"
      ]
     },
     "metadata": {},
     "output_type": "display_data"
    }
   ],
   "source": [
    "# ~~~~~~~~~~~~~~~~~~~~~~~~~~~~~~~~~~~~~~~~~~~~~ Google Global Building Asset Dataset\n",
    "\n",
    "# Set asset path\n",
    "buildingsAsset = ee.FeatureCollection(buildingAssetPath)\n",
    "\n",
    "# ~~~~~~~~~~~~~~~~~~~~~~~~~~~~~~~~~~~~~~~~~~~~~ ORNL Structures Dataset (Not as accurate as Google Global Building Asset Dataset). Some smaller buildings were slightly misaligned with actual building footprints, resulting in retention of rooftop arrays.\n",
    "\n",
    "# Get states and building database\n",
    "#statesAssetPath = r'TIGER/2018/States'\n",
    "#buildingAssetBasePath = r'projects/sat-io/open-datasets/ORNL/USA-STRUCTURES' # Append with 'USA_ST_MI' where the last two letters are the state abbreviation\n",
    "\n",
    "# Call states\n",
    "#states = ee.FeatureCollection(statesAssetPath)\n",
    "\n",
    "# Get a compiled building asset feature collection\n",
    "# List all assets in the folder\n",
    "#assetList = ee.data.listAssets({'parent': buildingAssetBasePath}).get('assets')\n",
    "\n",
    "# Function to convert asset paths to FeatureCollections\n",
    "#def assetToFeatureCollection(asset):\n",
    "#    return ee.FeatureCollection(asset['name'])\n",
    "\n",
    "# Map over the asset list to get FeatureCollections\n",
    "#featureCollections = list(map(assetToFeatureCollection, assetList))\n",
    "\n",
    "# Merge all FeatureCollections into one\n",
    "#buildingsAsset = ee.FeatureCollection(featureCollections).flatten()"
   ]
  },
  {
   "cell_type": "markdown",
   "metadata": {},
   "source": [
    "## Get solar array intersections with buildings and save as pandas df"
   ]
  },
  {
   "cell_type": "code",
   "execution_count": 8,
   "metadata": {},
   "outputs": [
    {
     "data": {
      "text/html": [
       "\n",
       "            <style>\n",
       "                .geemap-dark {\n",
       "                    --jp-widgets-color: white;\n",
       "                    --jp-widgets-label-color: white;\n",
       "                    --jp-ui-font-color1: white;\n",
       "                    --jp-layout-color2: #454545;\n",
       "                    background-color: #383838;\n",
       "                }\n",
       "\n",
       "                .geemap-dark .jupyter-button {\n",
       "                    --jp-layout-color3: #383838;\n",
       "                }\n",
       "\n",
       "                .geemap-colab {\n",
       "                    background-color: var(--colab-primary-surface-color, white);\n",
       "                }\n",
       "\n",
       "                .geemap-colab .jupyter-button {\n",
       "                    --jp-layout-color3: var(--colab-primary-surface-color, white);\n",
       "                }\n",
       "            </style>\n",
       "            "
      ],
      "text/plain": [
       "<IPython.core.display.HTML object>"
      ]
     },
     "metadata": {},
     "output_type": "display_data"
    },
    {
     "name": "stdout",
     "output_type": "stream",
     "text": [
      "Number of arrays assessed:  16691\n",
      "Correct total number of arrays:  16691\n"
     ]
    }
   ],
   "source": [
    "# Function to calculate the intersection and proportional area\n",
    "def calculate_intersection_area(array):\n",
    "    # Get the array geometry\n",
    "    aoi = array.geometry()\n",
    "    \n",
    "    # Filter the building vectors to the bounds of the aoi and get unified geometry (This works for all normal featureCollections. The Google Buildings Dataset is an exception)\n",
    "    #localBuildings = buildingsAsset.filterBounds(aoi).union(1).geometry()\n",
    "\n",
    "    # Filter the building vectors to the bounds of the aoi. \n",
    "    # For this Google Buildings Dataset, this always results in 29 features, only the last of which is the correct shape. We have not ascertained why this is the case. \n",
    "    # When we filter and acquire multipolygon geometries (if more than one building intersects), the correct shapes are index 29:numFeatures. \n",
    "    localBuildings = buildingsAsset.filterBounds(aoi).geometry().geometries() \n",
    "    actualFootprintStart = 29 # First building footprint index for the Google Buildings Dataset. \n",
    "    numGeometries = localBuildings.size() # Get total number of polyigons\n",
    "    validGeometries = localBuildings.slice(actualFootprintStart, numGeometries) # Slice the geometries from index 29 to the end\n",
    "    localBuildings = ee.Geometry.MultiPolygon(validGeometries) # Convert the list of valid geometries back into a MultiPolygon\n",
    "\n",
    "    # Now, acquire the intersecting area of roof and solar and get the rooftop proportion\n",
    "    intersectionArea = aoi.intersection(localBuildings, ee.ErrorMargin(1)).area(1)\n",
    "    rooftopAreaProp = intersectionArea.divide(aoi.area(1)).multiply(100).toInt() \n",
    "    \n",
    "    # Set as new attribute and return the feature\n",
    "    return array.set({'roofProp': rooftopAreaProp})\n",
    "\n",
    "# Call asset arrays\n",
    "#arraysAsset = geemap.shp_to_ee(arraysLocalPath) # Although this works, there are resulting memory issues if the asset is too large and not physcially uploaded to GEE first. So we'll use the asset path instead.\n",
    "arraysAsset = ee.FeatureCollection(arraysAssetPath)\n",
    "\n",
    "# Create a temporary folder within the derivedTemp_path to store the results\n",
    "rooftopResultsPath = os.path.join(derivedTemp_path, 'rooftopResults')\n",
    "if not os.path.exists(rooftopResultsPath):\n",
    "    os.makedirs(rooftopResultsPath)\n",
    "\n",
    "# Get assed ID list\n",
    "assetIDList = arraysAsset.aggregate_array('tempID').getInfo()\n",
    "\n",
    "# Break the assetIDList into equal chunks smaller than 5000 to overcome GEE memory limitations. Then, for each chunk, get the corresponding feature collection and apply the calculate_intersection_area function to each feature. Append the results to the lists.\n",
    "chunkSize = 1000 # This used to be 4999 to prevent memory issues using ORNL structures dataset, but with the google dataset, we needed multiple exports of csv to overcome memory issues.\n",
    "chunks = [assetIDList[i:i + chunkSize] for i in range(0, len(assetIDList), chunkSize)]\n",
    "\n",
    "# For each chunk, get the corresponding feature collection and apply the calculate_intersection_area function to each feature. Append the results to the lists.\n",
    "for chunk in chunks:\n",
    "    \n",
    "    # Initialize lists\n",
    "    id_list = []\n",
    "    roofProp_list = []\n",
    "\n",
    "    # Get the feature collection for the chunk\n",
    "    arraysAssetChunk = arraysAsset.filter(ee.Filter.inList('tempID', ee.List(chunk)))\n",
    "\n",
    "    # Apply the function to each feature in the arrays collection, and append the results to the lists\n",
    "    arrays_with_rooftop = arraysAssetChunk.map(calculate_intersection_area)\n",
    "    for feature in arrays_with_rooftop.getInfo()['features']:\n",
    "        id_list.append(feature['properties']['tempID'])\n",
    "        roofProp_list.append(feature['properties']['roofProp'])\n",
    "\n",
    "    # Create a dictionary and convert to a dataframe\n",
    "    data = {'tempID': id_list, 'roofProp': roofProp_list}\n",
    "    arraysRooftopDf = pd.DataFrame(data)\n",
    "\n",
    "    # Export the result to CSV\n",
    "    arraysRooftopDf.to_csv(os.path.join(rooftopResultsPath, 'arraysRooftopProp'+str(chunk[0])+'.csv'), index=False)\n",
    "\n",
    "# Call in all the csv files and concatenate them into one dataframe from the rooftopResultsPath\n",
    "arraysRooftopDf = pd.concat([pd.read_csv(os.path.join(rooftopResultsPath, f)) for f in os.listdir(rooftopResultsPath)], ignore_index=True)\n",
    "\n",
    "# Check to ensure indexing logic is correct\n",
    "print(\"Number of arrays assessed: \", len(arraysRooftopDf))\n",
    "print(\"Correct total number of arrays: \", arraysAsset.size().getInfo())\n",
    "\n",
    "# Export dataframe to derivedTemp_path\n",
    "arraysRooftopDf.to_csv(os.path.join(derivedTemp_path, 'arraysRooftopProp.csv'), index=False)"
   ]
  },
  {
   "cell_type": "markdown",
   "metadata": {},
   "source": [
    "## Remove buildings from existing and digitized solar array and panel databases"
   ]
  },
  {
   "cell_type": "markdown",
   "metadata": {},
   "source": [
    "### Arrays"
   ]
  },
  {
   "cell_type": "code",
   "execution_count": 9,
   "metadata": {},
   "outputs": [
    {
     "data": {
      "text/html": [
       "\n",
       "            <style>\n",
       "                .geemap-dark {\n",
       "                    --jp-widgets-color: white;\n",
       "                    --jp-widgets-label-color: white;\n",
       "                    --jp-ui-font-color1: white;\n",
       "                    --jp-layout-color2: #454545;\n",
       "                    background-color: #383838;\n",
       "                }\n",
       "\n",
       "                .geemap-dark .jupyter-button {\n",
       "                    --jp-layout-color3: #383838;\n",
       "                }\n",
       "\n",
       "                .geemap-colab {\n",
       "                    background-color: var(--colab-primary-surface-color, white);\n",
       "                }\n",
       "\n",
       "                .geemap-colab .jupyter-button {\n",
       "                    --jp-layout-color3: var(--colab-primary-surface-color, white);\n",
       "                }\n",
       "            </style>\n",
       "            "
      ],
      "text/plain": [
       "<IPython.core.display.HTML object>"
      ]
     },
     "metadata": {},
     "output_type": "display_data"
    },
    {
     "name": "stdout",
     "output_type": "stream",
     "text": [
      "Original number of arrays:  16691\n",
      "Number of arrays after filtering:  14905\n",
      "Total area of ground-mounted arrays:  3055.8286719458915\n",
      "Number of rooftop arrays removed:  1786\n",
      "Minimum subset value: 0\n",
      "Maximum subset value: 998\n"
     ]
    }
   ],
   "source": [
    "# Call local arrays\n",
    "arraysLocal = gpd.read_file(arraysLocalPath)\n",
    "\n",
    "# Print length of local arrays\n",
    "print(\"Original number of arrays: \", len(arraysLocal))\n",
    "\n",
    "# Call the CSV\n",
    "arraysRooftopDf = pd.read_csv(os.path.join(derivedTemp_path, 'arraysRooftopProp.csv'))\n",
    "\n",
    "# Merge the dataframes on a common identifier\n",
    "mergedArrays = arraysLocal.merge(arraysRooftopDf[['tempID', 'roofProp']], on='tempID')\n",
    "\n",
    "# Drop mergedArrays with a rooftopProp below the threshold\n",
    "mergedArrays = mergedArrays[mergedArrays['roofProp'] <= build_threshold]\n",
    "\n",
    "# Print length of merged arrays\n",
    "print(\"Number of arrays after filtering: \", len(mergedArrays))\n",
    "\n",
    "# Print total area of ground-mounted arrays in square km \n",
    "print(\"Total area of ground-mounted arrays: \", mergedArrays['area'].sum() / 10**6)\n",
    "\n",
    "# Print the number of rooftop arrays removed \n",
    "print(\"Number of rooftop arrays removed: \", len(arraysLocal) - len(mergedArrays))\n",
    "\n",
    "# Drop the temporary ID column\n",
    "mergedArrays = mergedArrays.drop(columns=['tempID'])\n",
    "\n",
    "# ~~~~~~~~~~~~~~~~~~~~~~~~~~~~~~~~~~~~~~~~~~~~~~~~~~~~~~~~~~~~~~~~~ Set a subset identifier for GEE memory limitations\n",
    "\n",
    "# Create a 'subset' column for processing panels in GEE. \n",
    "# This is a unique identifier for each array depending on its size. It should be numbers 0 through 999. \n",
    "# Larger arrays requrie more vectorization and more GEE memory, and should be procesed in smaller batches.\n",
    "# Calculate the 90th, 50th, and 10th, percentile area values\n",
    "percentile_90 = mergedArrays['area'].quantile(0.90)\n",
    "percentile_50 = mergedArrays['area'].quantile(0.50)\n",
    "percentile_10 = mergedArrays['area'].quantile(0.10)\n",
    "\n",
    "# Set subset values based on the 90th percentile area value\n",
    "percentile_90thSubset = 500 # Number of subset values for arrays larger than the 90th percentile area\n",
    "percentile_50thSubset = 400 # Number of subset values for arrays between the 50th and 90th percentile area\n",
    "percentile_10thSubset = 99 # Number of subset values for arrays smaller than the 10th percentile area\n",
    "\n",
    "# Function to assign subset values\n",
    "def assign_subset(area, percentile_90):\n",
    "    if area > percentile_90:\n",
    "        return np.random.randint(0, percentile_90thSubset)\n",
    "    elif area <= percentile_90 and area > percentile_50:\n",
    "        return np.random.randint(percentile_90thSubset, percentile_90thSubset + percentile_50thSubset)\n",
    "    else:\n",
    "        return np.random.randint(percentile_90thSubset + percentile_50thSubset, percentile_90thSubset + percentile_50thSubset + percentile_10thSubset)\n",
    "\n",
    "# Apply the function to create the 'subset' column\n",
    "mergedArrays['subset'] = mergedArrays['area'].apply(assign_subset, percentile_90=percentile_90)\n",
    "\n",
    "# Print min max subset values\n",
    "print(f'Minimum subset value: {mergedArrays[\"subset\"].min()}')\n",
    "print(f'Maximum subset value: {mergedArrays[\"subset\"].max()}')\n",
    "\n",
    "# Set a initID column that is the row index\n",
    "mergedArrays = mergedArrays.reset_index(drop=True)\n",
    "mergedArrays['arrayID'] = mergedArrays.index\n",
    "\n",
    "# Export the merged arrays to shapefile\n",
    "mergedArrays.to_file(gmseusArraysInitPath)"
   ]
  },
  {
   "cell_type": "markdown",
   "metadata": {},
   "source": [
    "### Panels"
   ]
  },
  {
   "cell_type": "code",
   "execution_count": 10,
   "metadata": {},
   "outputs": [
    {
     "data": {
      "text/html": [
       "\n",
       "            <style>\n",
       "                .geemap-dark {\n",
       "                    --jp-widgets-color: white;\n",
       "                    --jp-widgets-label-color: white;\n",
       "                    --jp-ui-font-color1: white;\n",
       "                    --jp-layout-color2: #454545;\n",
       "                    background-color: #383838;\n",
       "                }\n",
       "\n",
       "                .geemap-dark .jupyter-button {\n",
       "                    --jp-layout-color3: #383838;\n",
       "                }\n",
       "\n",
       "                .geemap-colab {\n",
       "                    background-color: var(--colab-primary-surface-color, white);\n",
       "                }\n",
       "\n",
       "                .geemap-colab .jupyter-button {\n",
       "                    --jp-layout-color3: var(--colab-primary-surface-color, white);\n",
       "                }\n",
       "            </style>\n",
       "            "
      ],
      "text/plain": [
       "<IPython.core.display.HTML object>"
      ]
     },
     "metadata": {},
     "output_type": "display_data"
    },
    {
     "name": "stdout",
     "output_type": "stream",
     "text": [
      "Original number of panels:  1076800\n",
      "Number of panels after filtering:  1071181\n",
      "Number of rooftop panels removed:  5714\n",
      "Total area of ground-mounted panels:  137.31026341708852\n",
      "Number of GMSEUS arrays with existing panels:  4470\n"
     ]
    }
   ],
   "source": [
    "# Re-call GM-SEUS initial arrays and call the panel-row data (both are already in the correct projection)\n",
    "gmseusArrays = gpd.read_file(gmseusArraysInitPath)\n",
    "panelsLocal = gpd.read_file(panelsLocalPath)\n",
    "\n",
    "# Print the original number of panels\n",
    "print(\"Original number of panels: \", len(panelsLocal))\n",
    "\n",
    "# Spatially join gmseus arrays to panels, copy the arrayID to the panels, and drop the index columns. \n",
    "panelsLocal = gpd.sjoin(panelsLocal, gmseusArrays[['arrayID', 'geometry']], how='left', predicate='intersects')\n",
    "panelsLocal = panelsLocal.reset_index(drop=True)\n",
    "panelsLocal = panelsLocal.drop(columns=['index_left', 'index_right'], errors='ignore')\n",
    "\n",
    "# Drop panels that do not have an arrayID\n",
    "gmPanelsLocal = panelsLocal.dropna(subset=['arrayID'])\n",
    "\n",
    "# Print the number of panels after filtering\n",
    "print(\"Number of panels after filtering: \", len(gmPanelsLocal))\n",
    "\n",
    "# Print the number of rooftop panels removed\n",
    "print(\"Number of rooftop panels removed: \", len(panelsLocal) - len(gmPanelsLocal))\n",
    "\n",
    "# Print the total area of ground-mounted panels in square km\n",
    "print(\"Total area of ground-mounted panels: \", gmPanelsLocal['area'].sum() / 10**6)\n",
    "\n",
    "# Print the number of unique initIDs in the panels\n",
    "print(\"Number of GMSEUS arrays with existing panels: \", len(gmPanelsLocal['arrayID'].unique()))\n",
    "\n",
    "# Drop arrayID column\n",
    "gmPanelsLocal = gmPanelsLocal.drop(columns=['arrayID'])\n",
    "\n",
    "# Save a new panelID column that is the row index (after resetting the index)\n",
    "gmPanelsLocal = gmPanelsLocal.reset_index(drop=True)\n",
    "gmPanelsLocal['panelID'] = gmPanelsLocal.index\n",
    "\n",
    "# Export the panels to shapefile\n",
    "gmPanelsLocal.to_file(gmseusPanelsInitPath)"
   ]
  },
  {
   "cell_type": "markdown",
   "metadata": {},
   "source": [
    "# Prepare Initial GM-SEUS to Get Panel-Rows in GEE\n",
    "* Because `script4_getPanel` doesnt care about *solar farm* ids, we'll exlode sub-array multi-polygons and treat them individually. \n",
    "* This drastically improves computational efficiency, reducing the amount of large multi-polygon arrays to chunk up and panelize. \n",
    "* Upload _gmseusGetPanelsPath_ to GEE asset"
   ]
  },
  {
   "cell_type": "code",
   "execution_count": 12,
   "metadata": {},
   "outputs": [
    {
     "data": {
      "text/html": [
       "\n",
       "            <style>\n",
       "                .geemap-dark {\n",
       "                    --jp-widgets-color: white;\n",
       "                    --jp-widgets-label-color: white;\n",
       "                    --jp-ui-font-color1: white;\n",
       "                    --jp-layout-color2: #454545;\n",
       "                    background-color: #383838;\n",
       "                }\n",
       "\n",
       "                .geemap-dark .jupyter-button {\n",
       "                    --jp-layout-color3: #383838;\n",
       "                }\n",
       "\n",
       "                .geemap-colab {\n",
       "                    background-color: var(--colab-primary-surface-color, white);\n",
       "                }\n",
       "\n",
       "                .geemap-colab .jupyter-button {\n",
       "                    --jp-layout-color3: var(--colab-primary-surface-color, white);\n",
       "                }\n",
       "            </style>\n",
       "            "
      ],
      "text/plain": [
       "<IPython.core.display.HTML object>"
      ]
     },
     "metadata": {},
     "output_type": "display_data"
    }
   ],
   "source": [
    "# Call gmseusArrays initial \n",
    "gmseusArraysInit = gpd.read_file(gmseusArraysInitPath)\n",
    "\n",
    "# Explode gmseusArraysInit\n",
    "gmseusArraysInit = gmseusArraysInit.explode(index_parts=False)\n",
    "gmseusArraysInit = gmseusArraysInit.reset_index(drop=True)\n",
    "\n",
    "# Set a subArrID column that is the row index\n",
    "gmseusArraysInit['subArrID'] = gmseusArraysInit.index\n",
    "\n",
    "# Set a temporary area column\n",
    "gmseusArraysInit['tempArea'] = gmseusArraysInit['geometry'].area\n",
    "\n",
    "# Export the exploded arrays to shapefile\n",
    "gmseusArraysInit.to_file(gmseusGetPanelsPath)"
   ]
  },
  {
   "cell_type": "markdown",
   "metadata": {},
   "source": [
    "### Print out numbers of exloded array shapes to decide area thresholds for running `script4_getPanels.js`"
   ]
  },
  {
   "cell_type": "code",
   "execution_count": 13,
   "metadata": {},
   "outputs": [
    {
     "data": {
      "text/html": [
       "\n",
       "            <style>\n",
       "                .geemap-dark {\n",
       "                    --jp-widgets-color: white;\n",
       "                    --jp-widgets-label-color: white;\n",
       "                    --jp-ui-font-color1: white;\n",
       "                    --jp-layout-color2: #454545;\n",
       "                    background-color: #383838;\n",
       "                }\n",
       "\n",
       "                .geemap-dark .jupyter-button {\n",
       "                    --jp-layout-color3: #383838;\n",
       "                }\n",
       "\n",
       "                .geemap-colab {\n",
       "                    background-color: var(--colab-primary-surface-color, white);\n",
       "                }\n",
       "\n",
       "                .geemap-colab .jupyter-button {\n",
       "                    --jp-layout-color3: var(--colab-primary-surface-color, white);\n",
       "                }\n",
       "            </style>\n",
       "            "
      ],
      "text/plain": [
       "<IPython.core.display.HTML object>"
      ]
     },
     "metadata": {},
     "output_type": "display_data"
    },
    {
     "name": "stdout",
     "output_type": "stream",
     "text": [
      "Number of arrays shapes in exloded gmseusArrays: 21258\n",
      "Number of arrays shapes with an area less than 2 ha: 8824\n",
      "Number of arrays shapes with an area greater than 2 and less than 10 ha: 7867\n",
      "Number of arrays shapes with area greater than 10 ha: 4567\n"
     ]
    }
   ],
   "source": [
    "# Call gmseusArrays getPanels\n",
    "gmseusGetPanels = gpd.read_file(gmseusGetPanelsPath)\n",
    "\n",
    "# Print the number of arrays in gmseusArrays\n",
    "print('Number of arrays shapes in exloded gmseusArrays: ' + str(len(gmseusGetPanels)))\n",
    "\n",
    "# Print the number arrays shapes with an area less than 20000\n",
    "print('Number of arrays shapes with an area less than 2 ha: ' + str(len(gmseusGetPanels[gmseusGetPanels['tempArea'] < 20000])))\n",
    "\n",
    "# Print the number arrays shapes with an area greater than 20000 and less than 100000 m2\n",
    "print('Number of arrays shapes with an area greater than 2 and less than 10 ha: ' + str(len(gmseusGetPanels[(gmseusGetPanels['tempArea'] > 20000) & (gmseusGetPanels['tempArea'] < 100000)])))\n",
    "\n",
    "# Print the number of arrays shapes with area greater than 100000 m2\n",
    "print('Number of arrays shapes with area greater than 10 ha: ' + str(len(gmseusGetPanels[gmseusGetPanels['tempArea'] > 100000])))"
   ]
  },
  {
   "cell_type": "code",
   "execution_count": 14,
   "metadata": {},
   "outputs": [
    {
     "data": {
      "text/html": [
       "\n",
       "            <style>\n",
       "                .geemap-dark {\n",
       "                    --jp-widgets-color: white;\n",
       "                    --jp-widgets-label-color: white;\n",
       "                    --jp-ui-font-color1: white;\n",
       "                    --jp-layout-color2: #454545;\n",
       "                    background-color: #383838;\n",
       "                }\n",
       "\n",
       "                .geemap-dark .jupyter-button {\n",
       "                    --jp-layout-color3: #383838;\n",
       "                }\n",
       "\n",
       "                .geemap-colab {\n",
       "                    background-color: var(--colab-primary-surface-color, white);\n",
       "                }\n",
       "\n",
       "                .geemap-colab .jupyter-button {\n",
       "                    --jp-layout-color3: var(--colab-primary-surface-color, white);\n",
       "                }\n",
       "            </style>\n",
       "            "
      ],
      "text/plain": [
       "<IPython.core.display.HTML object>"
      ]
     },
     "metadata": {},
     "output_type": "display_data"
    },
    {
     "name": "stdout",
     "output_type": "stream",
     "text": [
      "  nativeID Source  instYr    cap_mw          area modType AVtype  azimuth  \\\n",
      "0        1  CCVPV    2018  1.030127  14385.760279    c-si   None  -9999.0   \n",
      "1       10  CCVPV    2018  0.177505   2992.634674    c-si   None  -9999.0   \n",
      "2       10    OSM    2017  7.400000  88628.816881    c-si   None  -9999.0   \n",
      "3       10    OSM    2017  7.400000  88628.816881    c-si   None  -9999.0   \n",
      "4       10    OSM    2017  7.400000  88628.816881    c-si   None  -9999.0   \n",
      "\n",
      "        mount    id  roofProp  subset  arrayID  subArrID      tempArea  \\\n",
      "0  fixed_axis  None         0     992        0         0  14385.760279   \n",
      "1  fixed_axis  None         0     930        1         1   2992.634674   \n",
      "2        None  None        13     889        2         2  17720.386654   \n",
      "3        None  None        13     889        2         3  17715.559753   \n",
      "4        None  None        13     889        2         4   7352.367665   \n",
      "\n",
      "                                            geometry  \n",
      "0  POLYGON Z ((-2046882.826 -33209.734 0, -204688...  \n",
      "1  POLYGON Z ((-2059300.72 33320.721 0, -2059300....  \n",
      "2  POLYGON Z ((921387.214 -378464.97 0, 921396.41...  \n",
      "3  POLYGON Z ((921121.378 -378441.432 0, 921123.6...  \n",
      "4  POLYGON Z ((920880.809 -378415.256 0, 920880.6...  \n"
     ]
    }
   ],
   "source": [
    "# Print head\n",
    "print(gmseusGetPanels.head())"
   ]
  }
 ],
 "metadata": {
  "kernelspec": {
   "display_name": "BigPanelGEE",
   "language": "python",
   "name": "python3"
  },
  "language_info": {
   "codemirror_mode": {
    "name": "ipython",
    "version": 3
   },
   "file_extension": ".py",
   "mimetype": "text/x-python",
   "name": "python",
   "nbconvert_exporter": "python",
   "pygments_lexer": "ipython3",
   "version": "3.12.4"
  }
 },
 "nbformat": 4,
 "nbformat_minor": 2
}
