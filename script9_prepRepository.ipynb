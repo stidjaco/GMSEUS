{
 "cells": [
  {
   "cell_type": "markdown",
   "metadata": {},
   "source": [
    "# Final Checks and Prepare Final Respository Upload\n",
    "\n",
    "Perform final print checks to ensure attribute logic makes sense, and prepare final repository formats (SHP, GEOPACKAGE, CSV). \n",
    "\n",
    "In addition to these files, be sure to check **GMSEUS_NAIP_Arrays.gpkg**, **GMSEUS_NAIP_Panels.gpkg**, and **GMSEUS_NAIP_PanelsNoQAQC.gpkg** (and all associated files) that were created in `script5`. "
   ]
  },
  {
   "cell_type": "markdown",
   "metadata": {},
   "source": [
    "# Import Libraries and Set Paths"
   ]
  },
  {
   "cell_type": "code",
   "execution_count": 11,
   "metadata": {},
   "outputs": [],
   "source": [
    "# Import libraries\n",
    "import numpy as np\n",
    "import pandas as pd\n",
    "import geopandas as gpd\n",
    "import os \n",
    "\n",
    "# Set version\n",
    "version = 'v1.0'\n",
    "\n",
    "# Set folder paths\n",
    "wd = r'S:\\Users\\stidjaco\\R_files\\BigPanel'\n",
    "downloaded_path = os.path.join(wd, r'Data\\Downloaded')\n",
    "derived_path = os.path.join(wd, r'Data\\Derived')\n",
    "derivedTemp_path = os.path.join(derived_path, r'intermediateProducts')\n",
    "figure_path = os.path.join(wd, r'Figures')\n",
    "\n",
    "# Set input paths from script7 and script8 outputs\n",
    "gmseusArraysInputPath = os.path.join(derivedTemp_path, r'GMSEUS_Arrays_estTilt.shp')\n",
    "gmseusPanelsInputPath = os.path.join(derivedTemp_path, r'GMSEUS_Panels_wSource.shp')\n",
    "\n",
    "# Set a final gmseus arrays and panel-rows path (both as a shape and a geopackage)\n",
    "gmseusArraysFinalPath = os.path.join(derived_path, r'GMSEUS/GMSEUS_Arrays_Final.shp')\n",
    "gmseusArraysFinalGpkgPath = os.path.join(derived_path, r'GMSEUS/GMSEUS_Arrays_Final.gpkg')\n",
    "gmseusPanelsFinalPath = os.path.join(derived_path, r'GMSEUS/GMSEUS_Panels_Final.shp')\n",
    "gmseusPanelsFinalGpkgPath = os.path.join(derived_path, r'GMSEUS/GMSEUS_Panels_Final.gpkg')\n",
    "gmseusArraysFinalCSVPath = os.path.join(derived_path, r'GMSEUS/GMSEUS_Arrays_Final.csv')\n",
    "gmseusPanelsFinalCSVPath = os.path.join(derived_path, r'GMSEUS/GMSEUS_Panels_Final.csv')"
   ]
  },
  {
   "cell_type": "markdown",
   "metadata": {},
   "source": [
    "# Final Preparation and Print Checks for Attribute Logic\n",
    "For each numerical column except, print the total number of NaN values, -9999 values, and non-Nan or -9999 values. \n",
    "For each categorical column (Source, modType, mount), print the total number of NaN values, uknown values, and non-Nan or -9999 values (as value counts)\n",
    "For geometry column, print the number of invalid geometries."
   ]
  },
  {
   "cell_type": "code",
   "execution_count": 12,
   "metadata": {},
   "outputs": [],
   "source": [
    "# Call gmseusArrays and gmseusPanels\n",
    "gmseusArrays = gpd.read_file(gmseusArraysInputPath)\n",
    "gmseusPanels = gpd.read_file(gmseusPanelsInputPath)\n",
    "\n",
    "# Set version to gmseusArrays and gmseusPanels\n",
    "gmseusArrays['version'] = version\n",
    "gmseusPanels['version'] = version\n",
    "\n",
    "# Set desired array and panel-rows columns and check if any are missing\n",
    "arrayCols = ['arrayID', 'Source', 'nativeID', 'latitude', 'longitude', 'newBound', 'totArea', 'totRowArea', 'numRow', 'instYr', 'instYrLT', 'capMW', 'capMWest', 'modType', 'effInit', 'GCR1', 'GCR2', 'mount', 'tilt', 'tiltEst', 'avgAzimuth', 'avgLength', 'avgWidth', 'avgSpace',  'STATEFP', 'COUNTYFP', 'version', 'geometry']\n",
    "panelCols = ['panelID', 'Source', 'arrayID', 'rowArea', 'rowWidth', 'rowLength', 'rowAzimuth', 'rowMount', 'rowSpace', 'version', 'geometry']\n",
    "\n",
    "# Check if any columns are missing\n",
    "missingArrayCols = [col for col in arrayCols if col not in gmseusArrays.columns]\n",
    "missingPanelCols = [col for col in panelCols if col not in gmseusPanels.columns]\n",
    "if len(missingArrayCols) > 0:\n",
    "    print(f'Columns missing in gmseusArrays: {missingArrayCols}')\n",
    "if len(missingPanelCols) > 0:\n",
    "    print(f'Columns missing in gmseusPanels: {missingPanelCols}')\n",
    "\n",
    "# Select only desired columns\n",
    "gmseusArrays = gmseusArrays[arrayCols]\n",
    "gmseusPanels = gmseusPanels[panelCols]\n",
    "\n",
    "# Order rows by arrayID\n",
    "gmseusArrays = gmseusArrays.sort_values(by='arrayID').reset_index(drop=True)\n",
    "gmseusPanels = gmseusPanels.sort_values(by='arrayID').reset_index(drop=True)\n",
    "\n",
    "# Prepare gmseusArrays and gmseusPanels to save to csv\n",
    "gmseusArraysCSV = gmseusArrays.drop(columns='geometry')\n",
    "gmseusPanelsCSV = gmseusPanels.drop(columns='geometry')\n",
    "\n",
    "# Iterate through numeric columns (all except Source, modType, mount, geometry). Check for NaN values, and print \"Column X contains NaN Values\"\n",
    "for col in gmseusArrays.columns:\n",
    "    if col not in ['Source', 'modType', 'mount', 'geometry']:\n",
    "        if gmseusArrays[col].isnull().sum() > 0:\n",
    "            print(f'Column {col} contains NaN Values')\n",
    "\n",
    "# Iterate through categorical columns (Source, modType, mount). Check for NaN values, and print \"Column X contains NaN Values\"\n",
    "for col in ['Source', 'modType', 'mount']:\n",
    "    if gmseusArrays[col].isnull().sum() > 0:\n",
    "        print(f'Column {col} contains NaN Values')\n",
    "\n",
    "# Iterate through rows, and check if any geometry is empty\n",
    "for i in range(len(gmseusArrays)):\n",
    "    if gmseusArrays.loc[i, 'geometry'].is_empty:\n",
    "        print(f'Row {i} has an empty geometry')"
   ]
  },
  {
   "cell_type": "markdown",
   "metadata": {},
   "source": [
    "# Set Final Columns, Version, and Export"
   ]
  },
  {
   "cell_type": "code",
   "execution_count": 13,
   "metadata": {},
   "outputs": [],
   "source": [
    "# Export the final datasets\n",
    "gmseusArrays.to_file(gmseusArraysFinalPath, driver='ESRI Shapefile')\n",
    "gmseusArrays.to_file(gmseusArraysFinalGpkgPath, driver='GPKG')\n",
    "gmseusPanels.to_file(gmseusPanelsFinalPath, driver='ESRI Shapefile')\n",
    "gmseusPanels.to_file(gmseusPanelsFinalGpkgPath, driver='GPKG')\n",
    "\n",
    "# Export the final datasets as CSV\n",
    "gmseusArraysCSV.to_csv(gmseusArraysFinalCSVPath, index=False)\n",
    "gmseusPanelsCSV.to_csv(gmseusPanelsFinalCSVPath, index=False)"
   ]
  }
 ],
 "metadata": {
  "kernelspec": {
   "display_name": "BigPanel",
   "language": "python",
   "name": "python3"
  },
  "language_info": {
   "codemirror_mode": {
    "name": "ipython",
    "version": 3
   },
   "file_extension": ".py",
   "mimetype": "text/x-python",
   "name": "python",
   "nbconvert_exporter": "python",
   "pygments_lexer": "ipython3",
   "version": "3.12.5"
  }
 },
 "nbformat": 4,
 "nbformat_minor": 2
}
