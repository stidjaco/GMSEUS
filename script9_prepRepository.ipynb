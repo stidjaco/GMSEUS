{
 "cells": [
  {
   "cell_type": "markdown",
   "metadata": {},
   "source": [
    "# Final Checks and Prepare Final Respository Upload\n",
    "\n",
    "Perform final print checks to ensure attribute logic makes sense, and prepare final repository formats (SHP, GEOPACKAGE)"
   ]
  },
  {
   "cell_type": "markdown",
   "metadata": {},
   "source": [
    "# Import Libraries and Set Paths"
   ]
  },
  {
   "cell_type": "code",
   "execution_count": null,
   "metadata": {},
   "outputs": [],
   "source": [
    "# Import libraries\n",
    "import numpy as np\n",
    "import pandas as pd\n",
    "import geopandas as gpd\n",
    "import os \n",
    "\n",
    "# Set version\n",
    "version = 'v1.0'\n",
    "\n",
    "# Set folder paths\n",
    "wd = r'S:\\Users\\stidjaco\\R_files\\BigPanel'\n",
    "downloaded_path = os.path.join(wd, r'Data\\Downloaded')\n",
    "derived_path = os.path.join(wd, r'Data\\Derived')\n",
    "derivedTemp_path = os.path.join(derived_path, r'intermediateProducts')\n",
    "figure_path = os.path.join(wd, r'Figures')\n",
    "\n",
    "# Set input paths from script7 and script8 outputs\n",
    "gmseusArraysInputPath = os.path.join(derivedTemp_path, r'GMSEUS_Arrays_wGEOID.shp')\n",
    "gmseusPanelsInputPath = os.path.join(derivedTemp_path, r'GMSEUS_Panels_wSource.shp')\n",
    "\n",
    "# Set a final gmseus arrays and panel path\n",
    "gmseusArraysFinalPath = os.path.join(derived_path, r'GMSEUS/GMSEUS_Arrays_Final.shp')\n",
    "gmseusPanelsFinalPath = os.path.join(derived_path, r'GMSEUS/GMSEUS_Panels_Final.shp')"
   ]
  },
  {
   "cell_type": "markdown",
   "metadata": {},
   "source": [
    "# Set Final Columns, Version, and Export"
   ]
  },
  {
   "cell_type": "code",
   "execution_count": null,
   "metadata": {},
   "outputs": [],
   "source": [
    "# Call gmseus arrays and panels\n",
    "gmseusArrays = gpd.read_file(os.path.join(derivedTemp_path, r'GMSEUS_Arrays_wGEOID.shp'))\n",
    "gmseusPanels = gpd.read_file(os.path.join(derivedTemp_path, r'GMSEUS_Panels_wSource.shp'))\n",
    "\n",
    "# Set version to gmseusArrays and gmseusPanels\n",
    "gmseusArrays['version'] = version\n",
    "gmseusPanels['version'] = version\n",
    "\n",
    "# Check colnames\n",
    "print('GMSEUS Arrays:', gmseusArrays.columns)\n",
    "print('GMSEUS Panels:', gmseusPanels.columns)\n",
    "\n",
    "# Retain only the columns of interest\n",
    "# For gmseusArrays, retain: arrayID, Source, latitude, longitude, newBound, totArea, totRowArea, numRow, instYr, instYrLT, capMW, capMWest, modType, effInit, GCR1, GCR2, mount, tilt, avgAzimuth, avgLength, avgWidth, avgSpace, GEOID, STATEFP, COUNTYFP, version, geometry\n",
    "gmseusArrays = gmseusArrays[['arrayID', 'Source', 'nativeID', 'latitude', 'longitude', 'newBound', 'totArea', 'totRowArea', 'numRow', 'instYr', 'instYrLT', 'capMW', 'capMWest', 'modType', 'effInit', 'GCR1', 'GCR2', 'mount', 'tilt', 'avgAzimuth', 'avgLength', 'avgWidth', 'avgSpace',  'STATEFP', 'COUNTYFP', 'version', 'geometry']]\n",
    "\n",
    "# For gmseusPanels, retain: panelID, arrayID, rowArea, rowWidth, rowLength, rowAzimuth, rowMount, rowSpace, version, geometry\n",
    "gmseusPanels = gmseusPanels[['panelID', 'Source', 'arrayID', 'rowArea', 'rowWidth', 'rowLength', 'rowAzimuth', 'rowMount', 'rowSpace', 'version', 'geometry']]\n",
    "\n",
    "# Order rows by arrayID\n",
    "gmseusArrays = gmseusArrays.sort_values(by='arrayID').reset_index(drop=True)\n",
    "gmseusPanels = gmseusPanels.sort_values(by='arrayID').reset_index(drop=True)\n",
    "\n",
    "# Export the final datasets\n",
    "gmseusArrays.to_file(gmseusArraysFinalPath)\n",
    "gmseusPanels.to_file(gmseusPanelsFinalPath)"
   ]
  }
 ],
 "metadata": {
  "kernelspec": {
   "display_name": "BigPanel",
   "language": "python",
   "name": "python3"
  },
  "language_info": {
   "name": "python",
   "version": "3.12.5"
  }
 },
 "nbformat": 4,
 "nbformat_minor": 2
}
